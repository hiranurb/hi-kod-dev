{
 "cells": [
  {
   "cell_type": "code",
   "execution_count": 21,
   "id": "7e4c0485-c2ca-4128-a80d-56de9a4cadab",
   "metadata": {},
   "outputs": [],
   "source": [
    "def daire_alanı_hesapla():\n",
    "    pi = float(input(\"pi ddeğerini girin: \"))\n",
    "    yaricap = float(input(\"yarıçapı girin: \"))\n",
    "    alan = pi*(yaricap ** 2)\n",
    "    print(f\"dairenin alanı: {alan}\")"
   ]
  },
  {
   "cell_type": "code",
   "execution_count": 23,
   "id": "bcb5df9e-2a00-4b1d-83d4-dc0afb5cf1cc",
   "metadata": {},
   "outputs": [
    {
     "name": "stdin",
     "output_type": "stream",
     "text": [
      "pi ddeğerini girin:  3\n",
      "yarıçapı girin:  8\n"
     ]
    },
    {
     "name": "stdout",
     "output_type": "stream",
     "text": [
      "dairenin alanı: 192.0\n"
     ]
    }
   ],
   "source": [
    "daire_alanı_hesapla()"
   ]
  },
  {
   "cell_type": "code",
   "execution_count": 33,
   "id": "37fb474b-e6e7-4f6a-bd9d-4f824b277f44",
   "metadata": {},
   "outputs": [
    {
     "name": "stdin",
     "output_type": "stream",
     "text": [
      "faktöriyelini hesaplamak istediğiniz sayıyı girin:  4\n"
     ]
    },
    {
     "name": "stdout",
     "output_type": "stream",
     "text": [
      "faktöriyel(4) = None\n"
     ]
    }
   ],
   "source": [
    "def faktöriyel(n):\n",
    "    sonuc = 1\n",
    "    for i in range(1, n+1):\n",
    "        sonuc *= i\n",
    "\n",
    "sayi = int(input(\"faktöriyelini hesaplamak istediğiniz sayıyı girin: \"))\n",
    "sonuc= faktöriyel(sayi)\n",
    "print(\"faktöriyel({}) = {}\".format(sayi,sonuc))"
   ]
  },
  {
   "cell_type": "code",
   "execution_count": 55,
   "id": "284c8cac-c612-49bc-951f-53c4ae1c063c",
   "metadata": {},
   "outputs": [],
   "source": [
    "def yas_hesapla(doğum_yili):\n",
    "    yas = 2024 - doğum_yili\n",
    "    return yas"
   ]
  },
  {
   "cell_type": "code",
   "execution_count": 57,
   "id": "6a7d118c-320e-4836-88db-a7c610328e29",
   "metadata": {},
   "outputs": [
    {
     "data": {
      "text/plain": [
       "16"
      ]
     },
     "execution_count": 57,
     "metadata": {},
     "output_type": "execute_result"
    }
   ],
   "source": [
    "yas_hesapla(2008)"
   ]
  },
  {
   "cell_type": "code",
   "execution_count": 88,
   "id": "cc57b25a-7f35-451c-8b43-da2fa04fd8f8",
   "metadata": {},
   "outputs": [],
   "source": [
    "def Emeklilik(doğum_yili, isim):\n",
    "    yas = yas_hesapla(doğum_yili)\n",
    "    if yas > 65:\n",
    "        print(\"Emekli oldunuz\")\n",
    "    else:\n",
    "        kalan_yil = 65 - yas\n",
    "        print(f\"{isim} emeklilik için {kalan_yil} yılın kaldı.\")"
   ]
  },
  {
   "cell_type": "code",
   "execution_count": 92,
   "id": "cf64a1f9-439d-4e7d-82b5-22d6494156fa",
   "metadata": {},
   "outputs": [
    {
     "name": "stdout",
     "output_type": "stream",
     "text": [
      "Hira emeklilik için 49 yılın kaldı.\n"
     ]
    }
   ],
   "source": [
    "Emeklilik(2008,\"Hira\")"
   ]
  }
 ],
 "metadata": {
  "kernelspec": {
   "display_name": "Python 3 (ipykernel)",
   "language": "python",
   "name": "python3"
  },
  "language_info": {
   "codemirror_mode": {
    "name": "ipython",
    "version": 3
   },
   "file_extension": ".py",
   "mimetype": "text/x-python",
   "name": "python",
   "nbconvert_exporter": "python",
   "pygments_lexer": "ipython3",
   "version": "3.12.4"
  }
 },
 "nbformat": 4,
 "nbformat_minor": 5
}
