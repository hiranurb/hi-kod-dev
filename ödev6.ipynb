{
 "cells": [
  {
   "cell_type": "code",
   "execution_count": 1,
   "id": "0a925781-1b5d-4659-b4bf-6c95cd5154f0",
   "metadata": {},
   "outputs": [
    {
     "name": "stdout",
     "output_type": "stream",
     "text": [
      "Array: [1 2 3 4 5]\n",
      "Boyut: (5,)\n",
      "Eleman sayısı: 5\n"
     ]
    }
   ],
   "source": [
    "import numpy as np\n",
    "array = np.array([1, 2, 3, 4, 5], dtype=int)\n",
    "\n",
    "print(\"Array:\", array)\n",
    "print(\"Boyut:\", array.shape) \n",
    "print(\"Eleman sayısı:\", array.size) "
   ]
  },
  {
   "cell_type": "code",
   "execution_count": 3,
   "id": "bb454181-76d8-4b90-9899-38f66d28bfc2",
   "metadata": {},
   "outputs": [
    {
     "name": "stdout",
     "output_type": "stream",
     "text": [
      "İki Boyutlu Array:\n",
      " [[1 2 3]\n",
      " [4 5 6]]\n",
      "Boyut: (2, 3)\n",
      "Eleman sayısı: 6\n",
      "Satır sayısı: 2\n",
      "Sütun sayısı: 3\n",
      "1. satır, 2. sütun: 2\n",
      "Tüm satırlar, 1. sütun: [1 4]\n",
      "1. satırın tüm elemanları: [1 2 3]\n"
     ]
    }
   ],
   "source": [
    "import numpy as np\n",
    "array_2d = np.array([[1, 2, 3], [4, 5, 6]], dtype=int)\n",
    "\n",
    "print(\"İki Boyutlu Array:\\n\", array_2d)\n",
    "print(\"Boyut:\", array_2d.shape) \n",
    "print(\"Eleman sayısı:\", array_2d.size) \n",
    "print(\"Satır sayısı:\", array_2d.shape[0]) \n",
    "print(\"Sütun sayısı:\", array_2d.shape[1]) \n",
    "\n",
    "print(\"1. satır, 2. sütun:\", array_2d[0, 1])\n",
    "\n",
    "print(\"Tüm satırlar, 1. sütun:\", array_2d[:, 0])\n",
    "print(\"1. satırın tüm elemanları:\", array_2d[0, :]) "
   ]
  },
  {
   "cell_type": "code",
   "execution_count": 5,
   "id": "6354eede-3f69-45be-b272-9ff02fc633d5",
   "metadata": {},
   "outputs": [
    {
     "name": "stdout",
     "output_type": "stream",
     "text": [
      "Bir Boyutlu Array: [10 20 30 40 50]\n",
      "Index 2: 30\n",
      "Dilimleme (1:4): [20 30 40]\n"
     ]
    }
   ],
   "source": [
    "import numpy as np\n",
    "array_1d = np.array([10, 20, 30, 40, 50], dtype=int)\n",
    "print(\"Bir Boyutlu Array:\", array_1d)\n",
    "print(\"Index 2:\", array_1d[2])\n",
    "print(\"Dilimleme (1:4):\", array_1d[1:4])"
   ]
  },
  {
   "cell_type": "code",
   "execution_count": 7,
   "id": "809e74f9-6cd9-4f59-9df2-f03bcc76f918",
   "metadata": {},
   "outputs": [
    {
     "name": "stdout",
     "output_type": "stream",
     "text": [
      "\n",
      "İki Boyutlu Array:\n",
      " [[1 2 3]\n",
      " [4 5 6]\n",
      " [7 8 9]]\n",
      "1. satır, 2. sütun: 2\n",
      "Tüm satırlar, 1. sütun: [1 4 7]\n",
      "1. satırın tüm elemanları: [1 2 3]\n",
      "1. ve 2. satır, 1. ve 2. sütunlar:\n",
      " [[1 2]\n",
      " [4 5]]\n"
     ]
    }
   ],
   "source": [
    "array_2d = np.array([[1, 2, 3], [4, 5, 6], [7, 8, 9]], dtype=int)\n",
    "print(\"\\nİki Boyutlu Array:\\n\", array_2d)\n",
    "print(\"1. satır, 2. sütun:\", array_2d[0, 1])\n",
    "print(\"Tüm satırlar, 1. sütun:\", array_2d[:, 0])\n",
    "print(\"1. satırın tüm elemanları:\", array_2d[0, :])\n",
    "print(\"1. ve 2. satır, 1. ve 2. sütunlar:\\n\", array_2d[0:2, 0:2])"
   ]
  },
  {
   "cell_type": "code",
   "execution_count": 9,
   "id": "76a51165-bbff-4298-81b2-c022c57454cf",
   "metadata": {},
   "outputs": [
    {
     "name": "stdout",
     "output_type": "stream",
     "text": [
      "\n",
      "Üç Boyutlu Array:\n",
      " [[[1 2]\n",
      "  [3 4]]\n",
      "\n",
      " [[5 6]\n",
      "  [7 8]]]\n",
      "1. katman, 2. satır, 1. sütun: 3\n",
      "Tüm katmanlar, 1. satır, tüm sütunlar: [[1 2]\n",
      " [5 6]]\n",
      "1. katmanın tüm satırları:\n",
      " [[1 2]\n",
      " [3 4]]\n",
      "Tüm katmanlar, 1. sütun, 1. satır:\n",
      " [3 7]\n"
     ]
    }
   ],
   "source": [
    "array_3d = np.array([[[1, 2], [3, 4]], [[5, 6], [7, 8]]], dtype=int)\n",
    "print(\"\\nÜç Boyutlu Array:\\n\", array_3d)\n",
    "print(\"1. katman, 2. satır, 1. sütun:\", array_3d[0, 1, 0]) \n",
    "print(\"Tüm katmanlar, 1. satır, tüm sütunlar:\", array_3d[:, 0, :])\n",
    "print(\"1. katmanın tüm satırları:\\n\", array_3d[0, :, :])\n",
    "print(\"Tüm katmanlar, 1. sütun, 1. satır:\\n\", array_3d[:, 1, 0])"
   ]
  },
  {
   "cell_type": "code",
   "execution_count": 11,
   "id": "272780e6-0ea6-40a0-b8b8-3d0db661f97c",
   "metadata": {},
   "outputs": [
    {
     "name": "stdout",
     "output_type": "stream",
     "text": [
      "Sıfırlardan Oluşan Array:\n",
      " [[0 0 0]\n",
      " [0 0 0]\n",
      " [0 0 0]]\n",
      "\n",
      "Birlerden Oluşan Array:\n",
      " [[1 1 1]\n",
      " [1 1 1]\n",
      " [1 1 1]]\n"
     ]
    }
   ],
   "source": [
    "import numpy as np\n",
    "array_zeros = np.zeros((3, 3), dtype=int)\n",
    "array_ones = np.ones((3, 3), dtype=int)\n",
    "print(\"Sıfırlardan Oluşan Array:\\n\", array_zeros)\n",
    "print(\"\\nBirlerden Oluşan Array:\\n\", array_ones)"
   ]
  },
  {
   "cell_type": "code",
   "execution_count": 13,
   "id": "f0db29f7-53b6-4c84-bde7-603def638e69",
   "metadata": {},
   "outputs": [
    {
     "name": "stdout",
     "output_type": "stream",
     "text": [
      "\n",
      "Satır Bazında Birleştirilmiş Array:\n",
      " [[0 0 0]\n",
      " [0 0 0]\n",
      " [0 0 0]\n",
      " [1 1 1]\n",
      " [1 1 1]\n",
      " [1 1 1]]\n",
      "\n",
      "Sütun Bazında Birleştirilmiş Array:\n",
      " [[0 0 0 1 1 1]\n",
      " [0 0 0 1 1 1]\n",
      " [0 0 0 1 1 1]]\n"
     ]
    }
   ],
   "source": [
    "array_combined_rows = np.vstack((array_zeros, array_ones))\n",
    "print(\"\\nSatır Bazında Birleştirilmiş Array:\\n\", array_combined_rows)\n",
    "array_combined_cols = np.hstack((array_zeros, array_ones))\n",
    "print(\"\\nSütun Bazında Birleştirilmiş Array:\\n\", array_combined_cols)"
   ]
  }
 ],
 "metadata": {
  "kernelspec": {
   "display_name": "Python 3 (ipykernel)",
   "language": "python",
   "name": "python3"
  },
  "language_info": {
   "codemirror_mode": {
    "name": "ipython",
    "version": 3
   },
   "file_extension": ".py",
   "mimetype": "text/x-python",
   "name": "python",
   "nbconvert_exporter": "python",
   "pygments_lexer": "ipython3",
   "version": "3.12.4"
  }
 },
 "nbformat": 4,
 "nbformat_minor": 5
}
