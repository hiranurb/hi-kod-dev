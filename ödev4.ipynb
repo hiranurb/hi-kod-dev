{
 "cells": [
  {
   "cell_type": "code",
   "execution_count": 7,
   "id": "9ebb7df7-3ce7-476c-acbb-b4acabbe3af0",
   "metadata": {},
   "outputs": [],
   "source": [
    "liste = [\"Python\", True, 9, \"3\", 8.4, \"hi-kod\", \"False\", 4.7]\n",
    "deger_3 = liste[3]\n",
    "deger_hi_kod = liste[5]\n",
    "deger_4_7 = liste[7]\n",
    "degerler_1 = liste[2:6]\n",
    "degerler_2 = liste[4:8]"
   ]
  },
  {
   "cell_type": "code",
   "execution_count": 9,
   "id": "3c4764c9-1184-45f6-83b1-59ac58cf32af",
   "metadata": {},
   "outputs": [
    {
     "name": "stdout",
     "output_type": "stream",
     "text": [
      "3\n",
      "hi-kod\n",
      "4.7\n",
      "[9, '3', 8.4, 'hi-kod']\n",
      "[8.4, 'hi-kod', 'False', 4.7]\n"
     ]
    }
   ],
   "source": [
    "print(deger_3)\n",
    "print(deger_hi_kod)\n",
    "print(deger_4_7)\n",
    "print(degerler_1)\n",
    "print(degerler_2)"
   ]
  },
  {
   "cell_type": "code",
   "execution_count": 11,
   "id": "00f2ec36-e91f-4572-be64-2ae517a7a176",
   "metadata": {},
   "outputs": [
    {
     "name": "stdout",
     "output_type": "stream",
     "text": [
      "['Python', '3', 'hi-kod', 'False']\n"
     ]
    }
   ],
   "source": [
    "yeni_liste = [og for og in liste if isinstance(og, str)]\n",
    "print(yeni_liste)"
   ]
  },
  {
   "cell_type": "code",
   "execution_count": 13,
   "id": "9c586b15-2604-49dd-9865-d7d360f643bd",
   "metadata": {},
   "outputs": [
    {
     "name": "stdout",
     "output_type": "stream",
     "text": [
      "0.indexte bulunan meyve: elma\n",
      "1.indexte bulunan meyve: armut\n",
      "2.indexte bulunan meyve: muz\n",
      "3.indexte bulunan meyve: çilek\n"
     ]
    }
   ],
   "source": [
    "meyveler = [\"elma\", \"armut\", \"muz\", \"çilek\"]\n",
    "for index, meyve in enumerate(meyveler):\n",
    "    print(\"{}.indexte bulunan meyve: {}\".format(index, meyve))"
   ]
  }
 ],
 "metadata": {
  "kernelspec": {
   "display_name": "Python 3 (ipykernel)",
   "language": "python",
   "name": "python3"
  },
  "language_info": {
   "codemirror_mode": {
    "name": "ipython",
    "version": 3
   },
   "file_extension": ".py",
   "mimetype": "text/x-python",
   "name": "python",
   "nbconvert_exporter": "python",
   "pygments_lexer": "ipython3",
   "version": "3.12.4"
  }
 },
 "nbformat": 4,
 "nbformat_minor": 5
}
