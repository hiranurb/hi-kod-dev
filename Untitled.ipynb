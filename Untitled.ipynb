{
 "cells": [
  {
   "cell_type": "code",
   "execution_count": 21,
   "id": "3f2477f1-a5ef-4521-9813-2ae3b47bbdae",
   "metadata": {},
   "outputs": [
    {
     "name": "stdin",
     "output_type": "stream",
     "text": [
      "1.sayı: 1\n",
      "2.sayı: 2\n"
     ]
    },
    {
     "name": "stdout",
     "output_type": "stream",
     "text": [
      "x değişkeninin tipi:<class 'str'>\n",
      "y değişkeninin tipi:<class 'str'>\n",
      "x ve y'yi integer'e çevirip toplayınca sonucu integer olarak 3 sonucunu elde ettik\n"
     ]
    }
   ],
   "source": [
    "x = input(\"1.sayı:\")\n",
    "y = input(\"2.sayı:\") \n",
    "print(f\"x değişkeninin tipi:{type(x)}\\ny değişkeninin tipi:{type(y)}\")\n",
    "toplam = int(x) + int(y)\n",
    "print(f\"x ve y'yi integer'e çevirip toplayınca sonucu integer olarak {toplam} sonucunu elde ettik\")"
   ]
  },
  {
   "cell_type": "code",
   "execution_count": 42,
   "id": "af1cd5ec-a146-4273-aece-20407db883b5",
   "metadata": {},
   "outputs": [
    {
     "name": "stdin",
     "output_type": "stream",
     "text": [
      "ayşe:  1\n",
      "selim:  2\n",
      "naz:  3\n"
     ]
    }
   ],
   "source": [
    "Ayşe = int(input(\"ayşe: \"))\n",
    "Selim = int(input(\"selim: \"))\n",
    "Naz = int(input(\"naz: \"))\n",
    "\n"
   ]
  },
  {
   "cell_type": "code",
   "execution_count": 46,
   "id": "92ef41d4-55b1-4128-a8fb-c5c77eb1eb9c",
   "metadata": {},
   "outputs": [
    {
     "data": {
      "text/plain": [
       "False"
      ]
     },
     "execution_count": 46,
     "metadata": {},
     "output_type": "execute_result"
    }
   ],
   "source": [
    "Ayşe==Selim"
   ]
  },
  {
   "cell_type": "code",
   "execution_count": 48,
   "id": "535ea58f-8b38-48b9-b4a2-82d25eb8dbfc",
   "metadata": {},
   "outputs": [
    {
     "data": {
      "text/plain": [
       "False"
      ]
     },
     "execution_count": 48,
     "metadata": {},
     "output_type": "execute_result"
    }
   ],
   "source": [
    "Ayşe==Naz"
   ]
  },
  {
   "cell_type": "code",
   "execution_count": 52,
   "id": "dcee8eb9-95fa-45a6-8322-9bf76f8fbf69",
   "metadata": {},
   "outputs": [
    {
     "data": {
      "text/plain": [
       "True"
      ]
     },
     "execution_count": 52,
     "metadata": {},
     "output_type": "execute_result"
    }
   ],
   "source": [
    "Naz>Selim and Naz>Ayşe"
   ]
  },
  {
   "cell_type": "code",
   "execution_count": 54,
   "id": "dfb99d97-051a-4856-8072-bdf6ffb798cb",
   "metadata": {},
   "outputs": [
    {
     "data": {
      "text/plain": [
       "True"
      ]
     },
     "execution_count": 54,
     "metadata": {},
     "output_type": "execute_result"
    }
   ],
   "source": [
    "Ayşe<Selim and Ayşe<Naz"
   ]
  },
  {
   "cell_type": "code",
   "execution_count": 56,
   "id": "24dc1340-b862-4153-99b6-53946c3e49b7",
   "metadata": {},
   "outputs": [
    {
     "data": {
      "text/plain": [
       "False"
      ]
     },
     "execution_count": 56,
     "metadata": {},
     "output_type": "execute_result"
    }
   ],
   "source": [
    "Selim==Ayşe or Naz==Ayşe"
   ]
  },
  {
   "cell_type": "code",
   "execution_count": 66,
   "id": "20349679-72b1-4d99-b527-f8bd2c954904",
   "metadata": {},
   "outputs": [
    {
     "name": "stdin",
     "output_type": "stream",
     "text": [
      "birinci sayıyı giriniz:  5\n",
      "ikinci sayıyı giriniz:  6\n"
     ]
    }
   ],
   "source": [
    "x = int(input( \"birinci sayıyı giriniz: \"))\n",
    "y = int(input( \"ikinci sayıyı giriniz: \"))"
   ]
  },
  {
   "cell_type": "code",
   "execution_count": 68,
   "id": "aaf1dca1-9daa-44b7-b32c-c915ba10dd9a",
   "metadata": {},
   "outputs": [],
   "source": [
    "toplam=(x+y)\n",
    "çıkarma=(x-y)\n",
    "çarpma=(x*y)\n",
    "bölme=(x/y)\n"
   ]
  },
  {
   "cell_type": "code",
   "execution_count": 70,
   "id": "63f76c80-46d5-4edf-b148-a2ad460a6f81",
   "metadata": {},
   "outputs": [
    {
     "name": "stdout",
     "output_type": "stream",
     "text": [
      "11\n"
     ]
    }
   ],
   "source": [
    "print(toplam)\n"
   ]
  },
  {
   "cell_type": "code",
   "execution_count": 72,
   "id": "9e637866-17b4-424f-85b5-536beb5f57c7",
   "metadata": {},
   "outputs": [
    {
     "name": "stdout",
     "output_type": "stream",
     "text": [
      "-1\n"
     ]
    }
   ],
   "source": [
    "print(çıkarma)"
   ]
  },
  {
   "cell_type": "code",
   "execution_count": 74,
   "id": "96cff2e2-76e1-429e-8fc6-1006dcf17fc6",
   "metadata": {},
   "outputs": [
    {
     "name": "stdout",
     "output_type": "stream",
     "text": [
      "30\n"
     ]
    }
   ],
   "source": [
    "print(çarpma)"
   ]
  },
  {
   "cell_type": "code",
   "execution_count": 76,
   "id": "61fa9562-8856-47f8-8251-eebc3c941e43",
   "metadata": {},
   "outputs": [
    {
     "name": "stdout",
     "output_type": "stream",
     "text": [
      "0.8333333333333334\n"
     ]
    }
   ],
   "source": [
    "print(bölme)"
   ]
  },
  {
   "cell_type": "code",
   "execution_count": 78,
   "id": "e9c24f85-bef4-4d7d-9de6-099c4db533e4",
   "metadata": {},
   "outputs": [
    {
     "name": "stdin",
     "output_type": "stream",
     "text": [
      "isminizi giriniz:  hiranur\n",
      "yaşınızı giriniz:  16\n",
      "yaşadığınız şehiri giriniz:  trabzon\n",
      "mesleğinizi giriniz:  öğrenci\n"
     ]
    }
   ],
   "source": [
    "isim = input(\"isminizi giriniz: \")\n",
    "yaş = int(input(\"yaşınızı giriniz: \"))\n",
    "şehir = input(\"yaşadığınız şehiri giriniz: \")\n",
    "meslek = input(\"mesleğinizi giriniz: \")"
   ]
  },
  {
   "cell_type": "code",
   "execution_count": 114,
   "id": "cff9eb2b-7a56-4dee-9999-93fa24f246d5",
   "metadata": {},
   "outputs": [],
   "source": [
    "a = \"hi-kod veri bilimi atölyesi\""
   ]
  },
  {
   "cell_type": "code",
   "execution_count": 116,
   "id": "8f00031f-5d9d-4ee8-838d-3c1ae2363bdd",
   "metadata": {},
   "outputs": [],
   "source": [
    "list = tuple(a.split(\" \"))"
   ]
  },
  {
   "cell_type": "code",
   "execution_count": 118,
   "id": "daeb4e64-af10-4db8-911b-9a113b429c13",
   "metadata": {},
   "outputs": [
    {
     "data": {
      "text/plain": [
       "('hi-kod', 'veri', 'bilimi', 'atölyesi')"
      ]
     },
     "execution_count": 118,
     "metadata": {},
     "output_type": "execute_result"
    }
   ],
   "source": [
    "list"
   ]
  },
  {
   "cell_type": "code",
   "execution_count": 147,
   "id": "9d8cd9a4-59e7-4418-b809-3118569ddac3",
   "metadata": {},
   "outputs": [],
   "source": [
    "a = \"hi-kod veri bilimi atölyesi\""
   ]
  },
  {
   "cell_type": "code",
   "execution_count": 149,
   "id": "f3119ad5-2375-40f8-ada3-0649dda627f6",
   "metadata": {},
   "outputs": [
    {
     "data": {
      "text/plain": [
       "'HI-KOD VERI BILIMI ATÖLYESI'"
      ]
     },
     "execution_count": 149,
     "metadata": {},
     "output_type": "execute_result"
    }
   ],
   "source": [
    "a.upper()"
   ]
  },
  {
   "cell_type": "code",
   "execution_count": 151,
   "id": "283a9420-a56e-4e26-950d-465c120082ec",
   "metadata": {},
   "outputs": [
    {
     "data": {
      "text/plain": [
       "'hi-kod veri bilimi atölyesi'"
      ]
     },
     "execution_count": 151,
     "metadata": {},
     "output_type": "execute_result"
    }
   ],
   "source": [
    "a.lower()"
   ]
  },
  {
   "cell_type": "code",
   "execution_count": 153,
   "id": "5e059f2b-0f7a-45b4-b314-5391f5ef0dc6",
   "metadata": {},
   "outputs": [
    {
     "data": {
      "text/plain": [
       "'02468'"
      ]
     },
     "execution_count": 153,
     "metadata": {},
     "output_type": "execute_result"
    }
   ],
   "source": [
    "x = \"0123456789\"\n",
    "x[::2]"
   ]
  },
  {
   "cell_type": "code",
   "execution_count": 155,
   "id": "4504216a-6173-489f-a837-3059a1bf8b13",
   "metadata": {},
   "outputs": [
    {
     "data": {
      "text/plain": [
       "'13579'"
      ]
     },
     "execution_count": 155,
     "metadata": {},
     "output_type": "execute_result"
    }
   ],
   "source": [
    "x[1::2]"
   ]
  }
 ],
 "metadata": {
  "kernelspec": {
   "display_name": "Python 3 (ipykernel)",
   "language": "python",
   "name": "python3"
  },
  "language_info": {
   "codemirror_mode": {
    "name": "ipython",
    "version": 3
   },
   "file_extension": ".py",
   "mimetype": "text/x-python",
   "name": "python",
   "nbconvert_exporter": "python",
   "pygments_lexer": "ipython3",
   "version": "3.12.4"
  }
 },
 "nbformat": 4,
 "nbformat_minor": 5
}
