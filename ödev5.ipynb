{
 "cells": [
  {
   "cell_type": "code",
   "execution_count": 7,
   "id": "8811744f-9424-499b-adbe-a4aa53786579",
   "metadata": {},
   "outputs": [
    {
     "name": "stdin",
     "output_type": "stream",
     "text": [
      "Öğrenci ismini girin:  Vatan\n",
      "Ders ismini girin (Matematik, Fizik, Kimya):  Matematik\n"
     ]
    },
    {
     "name": "stdout",
     "output_type": "stream",
     "text": [
      "Vatan için Matematik notu: 100\n"
     ]
    }
   ],
   "source": [
    "notlar = {\n",
    "    \"Vatan\": {\"Matematik\": 100, \"Fizik\": 100, \"Kimya\": 100},\n",
    "    \"Hira\": {\"Matematik\": 96, \"Fizik\": 90, \"Kimya\": 88},\n",
    "    \"Melisa\": {\"Matematik\": 92, \"Fizik\": 67, \"Kimya\": 95},\n",
    "    \"Ceren\": {\"Matematik\": 70, \"Fizik\": 75, \"Kimya\": 80}\n",
    "}\n",
    "\n",
    "isim = input(\"Öğrenci ismini girin: \")\n",
    "ders = input(\"Ders ismini girin (Matematik, Fizik, Kimya): \")\n",
    "\n",
    "if isim in notlar:\n",
    "    if ders in notlar[isim]:\n",
    "        print(f\"{isim} için {ders} notu: {notlar[isim][ders]}\")\n",
    "    else:\n",
    "        print(\"Geçersiz ders ismi.\")\n",
    "else:\n",
    "    print(\"Geçersiz öğrenci ismi.\")"
   ]
  },
  {
   "cell_type": "code",
   "execution_count": 11,
   "id": "c410d4c6-6f4b-450c-b566-b56c20a296c5",
   "metadata": {},
   "outputs": [
    {
     "name": "stdin",
     "output_type": "stream",
     "text": [
      "Yapmak istediğiniz işlemi seçin: (1: Not Göster, 2: Not Güncelle, 3: Not Ekle, 4: Çıkış)  1\n",
      "Öğrenci ismini girin:  Vatan\n"
     ]
    },
    {
     "name": "stdout",
     "output_type": "stream",
     "text": [
      "Vatan notları: {'Matematik': 90, 'Fizik': 89, 'Kimya': 95}\n"
     ]
    },
    {
     "name": "stdin",
     "output_type": "stream",
     "text": [
      "Yapmak istediğiniz işlemi seçin: (1: Not Göster, 2: Not Güncelle, 3: Not Ekle, 4: Çıkış)  4\n"
     ]
    },
    {
     "name": "stdout",
     "output_type": "stream",
     "text": [
      "Çıkılıyor...\n"
     ]
    }
   ],
   "source": [
    "notlar = {\n",
    "    \"Utku\": {\"Matematik\": 87, \"Fizik\": 76, \"Kimya\": 80},\n",
    "    \"Sıla\": {\"Matematik\": 78, \"Fizik\": 85, \"Kimya\": 80},\n",
    "    \"Vatan\": {\"Matematik\": 90, \"Fizik\": 89, \"Kimya\": 95},\n",
    "    \"Zeynep\": {\"Matematik\": 70, \"Fizik\": 68, \"Kimya\": 80}\n",
    "}\n",
    "\n",
    "def ogrenci_notlarini_goster(isim):\n",
    "    if isim in notlar:\n",
    "        return notlar[isim]\n",
    "    else:\n",
    "        return None\n",
    "\n",
    "def not_guncelle(isim, ders, yeni_not):\n",
    "    if isim in notlar and ders in notlar[isim]:\n",
    "        notlar[isim][ders] = yeni_not\n",
    "        return True\n",
    "    return False\n",
    "\n",
    "def not_ekle(isim, ders, not_degeri):\n",
    "    if isim in notlar:\n",
    "        notlar[isim][ders] = not_degeri\n",
    "    else:\n",
    "        notlar[isim] = {ders: not_degeri}\n",
    "\n",
    "while True:\n",
    "    secim = input(\"Yapmak istediğiniz işlemi seçin: (1: Not Göster, 2: Not Güncelle, 3: Not Ekle, 4: Çıkış) \")\n",
    "    \n",
    "    if secim == \"1\":\n",
    "        isim = input(\"Öğrenci ismini girin: \")\n",
    "        notlar_ogrenci = ogrenci_notlarini_goster(isim)\n",
    "        if notlar_ogrenci:\n",
    "            print(f\"{isim} notları: {notlar_ogrenci}\")\n",
    "        else:\n",
    "            print(\"Öğrenci bulunamadı.\")\n",
    "\n",
    "    elif secim == \"2\":\n",
    "        isim = input(\"Öğrenci ismini girin: \")\n",
    "        ders = input(\"Ders ismini girin (Matematik, Fizik, Kimya): \")\n",
    "        yeni_not = int(input(\"Yeni notu girin: \"))\n",
    "        if not_guncelle(isim, ders, yeni_not):\n",
    "            print(f\"{isim} için {ders} notu güncellendi.\")\n",
    "        else:\n",
    "            print(\"Güncelleme başarısız. Öğrenci veya ders ismi geçersiz.\")\n",
    "\n",
    "    elif secim == \"3\":\n",
    "        isim = input(\"Yeni öğrenci ismini girin: \")\n",
    "        ders = input(\"Ders ismini girin (Matematik, Fizik, Kimya): \")\n",
    "        not_degeri = int(input(\"Not değerini girin: \"))\n",
    "        not_ekle(isim, ders, not_degeri)\n",
    "        print(f\"{isim} için {ders} dersi eklendi.\")\n",
    "\n",
    "    elif secim == \"4\":\n",
    "        print(\"Çıkılıyor...\")\n",
    "        break\n",
    "\n",
    "    else:\n",
    "        print(\"Geçersiz seçim. Lütfen tekrar deneyin.\")"
   ]
  }
 ],
 "metadata": {
  "kernelspec": {
   "display_name": "Python 3 (ipykernel)",
   "language": "python",
   "name": "python3"
  },
  "language_info": {
   "codemirror_mode": {
    "name": "ipython",
    "version": 3
   },
   "file_extension": ".py",
   "mimetype": "text/x-python",
   "name": "python",
   "nbconvert_exporter": "python",
   "pygments_lexer": "ipython3",
   "version": "3.12.4"
  }
 },
 "nbformat": 4,
 "nbformat_minor": 5
}
